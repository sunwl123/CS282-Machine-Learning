{
 "cells": [
  {
   "cell_type": "code",
   "execution_count": 1,
   "metadata": {},
   "outputs": [],
   "source": [
    "import numpy as np\n",
    "import pandas as pd\n",
    "import matplotlib.pyplot as plt"
   ]
  },
  {
   "cell_type": "code",
   "execution_count": 7,
   "metadata": {},
   "outputs": [
    {
     "name": "stdout",
     "output_type": "stream",
     "text": [
      "X_train.shape:  (1595, 95)\n",
      "y_train.shape:  (1595,)\n",
      "X_test.shape:  (399, 95)\n",
      "y_test.shape:  (399,)\n"
     ]
    }
   ],
   "source": [
    "df_train = pd.read_table(\"crime-train.txt\")\n",
    "df_test = pd.read_table(\"crime-test.txt\")\n",
    "# print(df_train)\n",
    "# print(df_test)\n",
    "X_train = df_train.iloc[:, 1:]\n",
    "# print(X_train)\n",
    "y_train = df_train.iloc[:, 0]\n",
    "# print(y_train)\n",
    "X_test = df_test.iloc[:, 1:]\n",
    "# print(X_test)\n",
    "y_test = df_test.iloc[:, 0]\n",
    "# print(y_test)\n",
    "print(\"X_train.shape: \", X_train.shape)\n",
    "print(\"y_train.shape: \", y_train.shape)\n",
    "print(\"X_test.shape: \", X_test.shape)\n",
    "print(\"y_test.shape: \", y_test.shape)"
   ]
  },
  {
   "cell_type": "code",
   "execution_count": 17,
   "metadata": {},
   "outputs": [
    {
     "name": "stdout",
     "output_type": "stream",
     "text": [
      "lambda: 0.01, cross_val_error: 0.02, test_error: 0.02\n",
      "lambda: 0.01, cross_val_error: 0.02, test_error: 0.02\n",
      "lambda: 0.02, cross_val_error: 0.02, test_error: 0.02\n",
      "lambda: 0.02, cross_val_error: 0.02, test_error: 0.02\n",
      "lambda: 0.03, cross_val_error: 0.02, test_error: 0.02\n",
      "lambda: 0.04, cross_val_error: 0.02, test_error: 0.03\n",
      "lambda: 0.05, cross_val_error: 0.03, test_error: 0.03\n",
      "lambda: 0.07, cross_val_error: 0.03, test_error: 0.03\n",
      "lambda: 0.10, cross_val_error: 0.03, test_error: 0.04\n",
      "lambda: 0.13, cross_val_error: 0.04, test_error: 0.04\n",
      "lambda: 0.17, cross_val_error: 0.05, test_error: 0.06\n",
      "lambda: 0.22, cross_val_error: 0.05, test_error: 0.06\n",
      "lambda: 0.29, cross_val_error: 0.05, test_error: 0.06\n",
      "lambda: 0.39, cross_val_error: 0.05, test_error: 0.06\n",
      "lambda: 0.52, cross_val_error: 0.05, test_error: 0.06\n",
      "lambda: 0.69, cross_val_error: 0.05, test_error: 0.06\n",
      "lambda: 0.91, cross_val_error: 0.05, test_error: 0.06\n",
      "lambda: 1.21, cross_val_error: 0.05, test_error: 0.06\n",
      "lambda: 1.60, cross_val_error: 0.05, test_error: 0.06\n",
      "lambda: 2.12, cross_val_error: 0.05, test_error: 0.06\n",
      "lambda: 2.81, cross_val_error: 0.05, test_error: 0.06\n",
      "lambda: 3.73, cross_val_error: 0.05, test_error: 0.06\n",
      "lambda: 4.94, cross_val_error: 0.05, test_error: 0.06\n",
      "lambda: 6.55, cross_val_error: 0.05, test_error: 0.06\n",
      "lambda: 8.69, cross_val_error: 0.05, test_error: 0.06\n",
      "lambda: 11.51, cross_val_error: 0.05, test_error: 0.06\n",
      "lambda: 15.26, cross_val_error: 0.05, test_error: 0.06\n",
      "lambda: 20.24, cross_val_error: 0.05, test_error: 0.06\n",
      "lambda: 26.83, cross_val_error: 0.05, test_error: 0.06\n",
      "lambda: 35.56, cross_val_error: 0.05, test_error: 0.06\n",
      "lambda: 47.15, cross_val_error: 0.05, test_error: 0.06\n",
      "lambda: 62.51, cross_val_error: 0.05, test_error: 0.06\n",
      "lambda: 82.86, cross_val_error: 0.05, test_error: 0.06\n",
      "lambda: 109.85, cross_val_error: 0.05, test_error: 0.06\n",
      "lambda: 145.63, cross_val_error: 0.05, test_error: 0.06\n",
      "lambda: 193.07, cross_val_error: 0.05, test_error: 0.06\n",
      "lambda: 255.95, cross_val_error: 0.05, test_error: 0.06\n",
      "lambda: 339.32, cross_val_error: 0.05, test_error: 0.06\n",
      "lambda: 449.84, cross_val_error: 0.05, test_error: 0.06\n",
      "lambda: 596.36, cross_val_error: 0.05, test_error: 0.06\n",
      "lambda: 790.60, cross_val_error: 0.05, test_error: 0.06\n",
      "lambda: 1048.11, cross_val_error: 0.05, test_error: 0.06\n",
      "lambda: 1389.50, cross_val_error: 0.05, test_error: 0.06\n",
      "lambda: 1842.07, cross_val_error: 0.05, test_error: 0.06\n",
      "lambda: 2442.05, cross_val_error: 0.05, test_error: 0.06\n",
      "lambda: 3237.46, cross_val_error: 0.05, test_error: 0.06\n",
      "lambda: 4291.93, cross_val_error: 0.05, test_error: 0.06\n",
      "lambda: 5689.87, cross_val_error: 0.05, test_error: 0.06\n",
      "lambda: 7543.12, cross_val_error: 0.05, test_error: 0.06\n",
      "lambda: 10000.00, cross_val_error: 0.05, test_error: 0.06\n"
     ]
    }
   ],
   "source": [
    "# implement lasso regression\n",
    "from sklearn.linear_model import Lasso\n",
    "from sklearn.linear_model import Ridge\n",
    "from sklearn.metrics import mean_squared_error\n",
    "from sklearn.model_selection import cross_val_predict\n",
    "coefficients_num = X_test.shape[1]\n",
    "iteration = 50\n",
    "alphas = np.logspace(-2, 4, iteration)\n",
    "cross_val_errors = np.zeros([iteration])\n",
    "test_errors = np.zeros([iteration])\n",
    "coefficients = np.zeros([iteration, coefficients_num])\n",
    "for i in range(iteration):\n",
    "    lasso = Lasso(alpha=alphas[i], max_iter=100000)\n",
    "    # lasso = Lasso(alpha=0.1, max_iter=10000)\n",
    "    lasso.fit(X_train, y_train)\n",
    "    coefficients[i, :] = lasso.coef_\n",
    "    y_pred = cross_val_predict(lasso, X_train, y_train, cv=10)\n",
    "    cross_val_errors[i] = mean_squared_error(y_train, y_pred)\n",
    "    y_predict = lasso.predict(X_test)\n",
    "    test_errors[i] = mean_squared_error(y_test, y_predict)\n",
    "    print(\"lambda: %.2f, cross_val_error: %.2f, test_error: %.2f\" % (alphas[i], cross_val_errors[i], test_errors[i]))"
   ]
  },
  {
   "cell_type": "code",
   "execution_count": 24,
   "metadata": {},
   "outputs": [
    {
     "data": {
      "image/png": "[encoded data removed]",
      "text/plain": [
       "<Figure size 432x288 with 1 Axes>"
      ]
     },
     "metadata": {
      "needs_background": "light"
     },
     "output_type": "display_data"
    }
   ],
   "source": [
    "plt.semilogx(alphas, cross_val_errors, label=\"cross validation error\")\n",
    "plt.title(\"cross validation error vs lambda\")\n",
    "plt.xlabel(\"lambda\")\n",
    "plt.ylabel(\"cross validation error\")\n",
    "plt.grid()\n",
    "fig = plt.gcf()\n",
    "plt.show()\n",
    "fig.savefig(\"cross_validation_error_vs_lambda.png\", format=\"png\")"
   ]
  },
  {
   "cell_type": "code",
   "execution_count": 19,
   "metadata": {},
   "outputs": [
    {
     "data": {
      "image/png": "[encoded data removed]",
      "text/plain": [
       "<Figure size 432x288 with 1 Axes>"
      ]
     },
     "metadata": {
      "needs_background": "light"
     },
     "output_type": "display_data"
    }
   ],
   "source": [
    "# plot the test error\n",
    "plt.semilogx(alphas, test_errors, label=\"test error\")\n",
    "plt.title(\"test error vs lambda\")\n",
    "plt.xlabel(\"lambda\")\n",
    "plt.ylabel(\"test error\")\n",
    "plt.grid()\n",
    "plt.show()"
   ]
  },
  {
   "cell_type": "code",
   "execution_count": 20,
   "metadata": {},
   "outputs": [
    {
     "data": {
      "image/png": "[encoded data removed]",
      "text/plain": [
       "<Figure size 432x288 with 1 Axes>"
      ]
     },
     "metadata": {
      "needs_background": "light"
     },
     "output_type": "display_data"
    }
   ],
   "source": [
    "threshold = 1e-2\n",
    "plt.semilogx(alphas, np.sum(np.abs(coefficients) < threshold, axis=1))\n",
    "plt.title(\"number of coefficients less than threshold vs lambda\")\n",
    "plt.xlabel(\"lambda\")\n",
    "plt.ylabel(\"small coefficients\")\n",
    "plt.grid()\n",
    "plt.show()"
   ]
  },
  {
   "cell_type": "code",
   "execution_count": 22,
   "metadata": {},
   "outputs": [
    {
     "name": "stdout",
     "output_type": "stream",
     "text": [
      "the most positive:  PctIlleg\n",
      "positive value:  0.0687287360561848\n",
      "the most negative:  PctKids2Par\n",
      "negative value:  -0.06872331883867289\n"
     ]
    }
   ],
   "source": [
    "best_coefficients = coefficients[np.argmin(test_errors)]\n",
    "max_parameter = np.argmax(best_coefficients)\n",
    "min_parameter = np.argmin(best_coefficients)\n",
    "parameter_label = X_test.columns\n",
    "print(\"the most positive: \", parameter_label[max_parameter])\n",
    "print(\"positive value: \", best_coefficients[max_parameter])\n",
    "print(\"the most negative: \", parameter_label[min_parameter])\n",
    "print(\"negative value: \", best_coefficients[min_parameter])"
   ]
  }
 ],
 "metadata": {
  "kernelspec": {
   "display_name": "Python 3.10.5 64-bit",
   "language": "python",
   "name": "python3"
  },
  "language_info": {
   "codemirror_mode": {
    "name": "ipython",
    "version": 3
   },
   "file_extension": ".py",
   "mimetype": "text/x-python",
   "name": "python",
   "nbconvert_exporter": "python",
   "pygments_lexer": "ipython3",
   "version": "3.10.5"
  },
  "orig_nbformat": 4,
  "vscode": {
   "interpreter": {
    "hash": "3196968d684371006099b3d55edeef8ed90365227a30deaef86e5d4aa8519be0"
   }
  }
 },
 "nbformat": 4,
 "nbformat_minor": 2
}
